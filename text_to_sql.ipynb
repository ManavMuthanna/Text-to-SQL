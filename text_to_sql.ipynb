{
  "cells": [
    {
      "cell_type": "code",
      "execution_count": 22,
      "id": "218164d4",
      "metadata": {
        "id": "218164d4"
      },
      "outputs": [],
      "source": [
        "from langchain_experimental.sql import SQLDatabaseChain\n",
        "from langchain import OpenAI\n",
        "from sqlalchemy import create_engine, MetaData, Table, Column, Integer, String, text\n",
        "from transformers import AutoTokenizer, AutoModelForSeq2SeqLM, AutoModelForCausalLM\n",
        "import os"
      ]
    },
    {
      "cell_type": "markdown",
      "id": "b20c2aa1",
      "metadata": {
        "id": "b20c2aa1"
      },
      "source": [
        "# Using t5-small-finetuned-wikiSQL"
      ]
    },
    {
      "cell_type": "code",
      "execution_count": null,
      "id": "42d35258",
      "metadata": {
        "colab": {
          "base_uri": "https://localhost:8080/"
        },
        "id": "42d35258",
        "outputId": "fac9a771-54cc-4c5b-bd82-c0c483beb073"
      },
      "outputs": [],
      "source": [
        "# Load a pre-trained text-to-SQL model\n",
        "model_name = \"mrm8488/t5-small-finetuned-wikiSQL\"\n",
        "tokenizer = AutoTokenizer.from_pretrained(model_name)\n",
        "model = AutoModelForSeq2SeqLM.from_pretrained(model_name)"
      ]
    },
    {
      "cell_type": "code",
      "execution_count": 8,
      "id": "3c2416cd",
      "metadata": {
        "id": "3c2416cd"
      },
      "outputs": [],
      "source": [
        "# Create an SQLite database and an employees table for the example\n",
        "engine = create_engine('sqlite:///example.db')\n",
        "metadata = MetaData()\n",
        "\n",
        "employees = Table('employees', metadata,\n",
        "                  Column('id', Integer, primary_key=True),\n",
        "                  Column('name', String),\n",
        "                  Column('salary', Integer))\n",
        "\n",
        "# Create the table in the database\n",
        "metadata.create_all(engine)"
      ]
    },
    {
      "cell_type": "code",
      "execution_count": 18,
      "id": "c703d3f3",
      "metadata": {
        "id": "c703d3f3"
      },
      "outputs": [],
      "source": [
        "# Insert example data\n",
        "with engine.connect() as conn:\n",
        "    # Begin a transaction\n",
        "    trans = conn.begin()\n",
        "    try:\n",
        "        conn.execute(employees.insert(), [\n",
        "            {'name': 'John Doe', 'salary': 25000},\n",
        "            {'name': 'Jane Smith', 'salary': 18000},\n",
        "            {'name': 'Alice Johnson', 'salary': 22000},\n",
        "            {'name': 'Mark Taylor', 'salary': 30000},\n",
        "            {'name': 'Linda Green', 'salary': 15000},\n",
        "            {'name': 'Michael Brown', 'salary': 27000},\n",
        "            {'name': 'Emily White', 'salary': 20000},\n",
        "            {'name': 'David Black', 'salary': 24000},\n",
        "            {'name': 'Sophie Turner', 'salary': 21000},\n",
        "            {'name': 'Chris Evans', 'salary': 23000},\n",
        "        ])\n",
        "        # Commit the transaction\n",
        "        trans.commit()\n",
        "    except:\n",
        "        # Rollback the transaction in case of an error\n",
        "        trans.rollback()\n",
        "        raise\n"
      ]
    },
    {
      "cell_type": "code",
      "execution_count": 77,
      "id": "e1057a89",
      "metadata": {
        "id": "e1057a89"
      },
      "outputs": [],
      "source": [
        "#Generate SQL Query\n",
        "def get_sql(query, tokenizer, model):\n",
        "  input_text = \"translate English to SQL: %s </s>\" % query\n",
        "  features = tokenizer([input_text], return_tensors='pt')\n",
        "\n",
        "  output = model.generate(input_ids=features['input_ids'],\n",
        "               attention_mask=features['attention_mask'])\n",
        "\n",
        "  return tokenizer.decode(output[0])\n",
        "\n",
        "# Clean generated output:\n",
        "def clean_sql_output(sql_query):\n",
        "    # Remove unwanted tokens like '<pad>' and '</s>'\n",
        "    cleaned_query = sql_query.replace('<pad>', '').replace('</s>', '')\n",
        "\n",
        "    # Replace the word \"table\" with \"employees\"\n",
        "    cleaned_query = cleaned_query.replace('table', 'employees')\n",
        "\n",
        "    # Remove any extra leading/trailing whitespace\n",
        "    cleaned_query = cleaned_query.strip()\n",
        "\n",
        "    return cleaned_query\n"
      ]
    },
    {
      "cell_type": "code",
      "execution_count": null,
      "id": "c198bded",
      "metadata": {
        "colab": {
          "base_uri": "https://localhost:8080/"
        },
        "id": "c198bded",
        "outputId": "15eeadc6-383a-4f94-e8be-5c27a29b16cc"
      },
      "outputs": [],
      "source": [
        "query = \"How many employees have a salary above 15000\"\n",
        "sql_query = clean_sql_output(get_sql(query, tokenizer, model))\n",
        "print(sql_query)"
      ]
    },
    {
      "cell_type": "markdown",
      "id": "16ee5ebb",
      "metadata": {
        "id": "16ee5ebb"
      },
      "source": [
        "# Using t5-base-finetuned-wikiSQL"
      ]
    },
    {
      "cell_type": "code",
      "execution_count": null,
      "id": "0b2a0a1a",
      "metadata": {
        "colab": {
          "base_uri": "https://localhost:8080/"
        },
        "id": "0b2a0a1a",
        "outputId": "fc759e4e-fe30-4b36-c95d-037634f84b64"
      },
      "outputs": [],
      "source": [
        "# Load the second model (mrm8488/t5-base-finetuned-wikiSQL)\n",
        "model_name_base = \"mrm8488/t5-base-finetuned-wikiSQL\"\n",
        "tokenizer_base = AutoTokenizer.from_pretrained(model_name_base)\n",
        "model_base = AutoModelForSeq2SeqLM.from_pretrained(model_name_base)"
      ]
    },
    {
      "cell_type": "code",
      "execution_count": null,
      "id": "1c6b457d",
      "metadata": {
        "colab": {
          "base_uri": "https://localhost:8080/"
        },
        "id": "1c6b457d",
        "outputId": "37edc184-4a95-4224-be78-1804130401bc"
      },
      "outputs": [],
      "source": [
        "query = \"How many employees have the name John\"\n",
        "sql_query = clean_sql_output(get_sql(query, tokenizer_base, model_base))\n",
        "print(sql_query)"
      ]
    },
    {
      "cell_type": "markdown",
      "id": "WWPAqznCKK6u",
      "metadata": {
        "id": "WWPAqznCKK6u"
      },
      "source": []
    },
    {
      "cell_type": "code",
      "execution_count": 94,
      "id": "ca8c69ba",
      "metadata": {
        "id": "ca8c69ba"
      },
      "outputs": [],
      "source": [
        "import time\n",
        "import matplotlib.pyplot as plt\n",
        "\n",
        "# List of natural language queries for testing\n",
        "queries = [\n",
        "    \"How many employees earn more than 20000?\",\n",
        "    \"Show all employees who earn less than 22000.\",\n",
        "    \"What is the average salary of employees?\",\n",
        "    \"Who has the highest salary?\",\n",
        "    \"List all employee names.\",\n",
        "    \"What is the total salary for all employees?\",\n",
        "    \"List employees with a salary of 18000.\",\n",
        "    \"How many employees earn less than 15000?\",\n",
        "    \"Show employees with salaries between 20000 and 30000.\",\n",
        "    \"Who is the employee with the lowest salary?\",\n",
        "    \"How many employees are there?\",\n",
        "    \"Show employees sorted by salary from highest to lowest.\",\n",
        "    \"List employees whose names start with 'J'.\",\n",
        "    \"What is the total of all salaries?\",\n",
        "    \"Show employees earning 25000 or less.\",\n",
        "    \"Find employees who earn more than the average salary.\",\n",
        "    \"List employees and their salaries.\",\n",
        "    \"What is the highest salary?\",\n",
        "    \"What is the difference between the highest and lowest salaries?\",\n",
        "    \"Show the top 3 highest-paid employees.\",\n",
        "    \"How many employees earn an even salary?\",\n",
        "    \"Show employees whose salary is a multiple of 5000.\",\n",
        "    \"List employees with a salary ending in '000'.\",\n",
        "    \"What is the median salary of employees? (Estimate by sorting)\",\n",
        "    \"List employees who have worked for more than 5 years.\",\n",
        "    \"Who earns the second-highest salary? (Estimate by sorting)\",\n",
        "    \"List employees with 'John' in their name.\",\n",
        "    \"Count employees earning at least 18000.\",\n",
        "    \"List employees and their salaries from lowest to highest.\",\n",
        "    \"How many different salary amounts are there?\",\n",
        "    \"Group employees by their salary range.\",\n",
        "    \"What is the average salary of employees whose names start with 'A'?\",\n",
        "    \"What percent of employees earn more than 20000? (Estimate)\",\n",
        "    \"List employees hired in the last 2 years.\",\n",
        "    \"Who has a prime number salary? (Estimate by checking)\",\n",
        "    \"What salary is most common among employees?\",\n",
        "    \"List employees who have been here for 10 years.\",\n",
        "    \"What is the average salary of employees with more than 3 years in the company?\",\n",
        "    \"How many employees have names longer than 6 characters?\",\n",
        "    \"Show employees with the same salary as John Doe.\",\n",
        "    \"What is the range of salaries among employees?\",\n",
        "    \"Find the average salary for each salary amount.\",\n",
        "    \"List the first 5 employees by salary.\",\n",
        "    \"What is the standard deviation of salaries? (Estimate)\",\n",
        "    \"Show employees earning more than the average salary.\",\n",
        "    \"Who has the same salary as others? (Estimate by grouping)\",\n",
        "    \"How many employees earn in the top 10%? (Estimate)\",\n",
        "    \"List employees whose names have 5 characters.\"\n",
        "]\n",
        "\n",
        "\n",
        "# Initialize results storage\n",
        "results = {\n",
        "    \"query\": [],\n",
        "    \"model_name\": [],\n",
        "    \"execution_time\": [],\n",
        "    \"sql_query\": []\n",
        "}\n",
        "\n",
        "# Function to evaluate both models\n",
        "def evaluate_models(queries):\n",
        "    for query in queries:\n",
        "        # Evaluate small model\n",
        "        start_time = time.time()\n",
        "        sql_query_small = get_sql(query, tokenizer, model)\n",
        "        end_time = time.time()\n",
        "        results[\"query\"].append(query)\n",
        "        results[\"model_name\"].append(\"t5-small-finetuned-wikiSQL\")\n",
        "        results[\"execution_time\"].append(end_time - start_time)\n",
        "        results[\"sql_query\"].append(clean_sql_output(sql_query_small))\n",
        "\n",
        "        # Evaluate base model\n",
        "        start_time = time.time()\n",
        "        sql_query_base = get_sql(query, tokenizer_base, model_base)\n",
        "        end_time = time.time()\n",
        "        results[\"query\"].append(query)\n",
        "        results[\"model_name\"].append(\"t5-base-finetuned-wikiSQL\")\n",
        "        results[\"execution_time\"].append(end_time - start_time)\n",
        "        results[\"sql_query\"].append(clean_sql_output(sql_query_base))"
      ]
    },
    {
      "cell_type": "code",
      "execution_count": null,
      "id": "e58c1716",
      "metadata": {
        "colab": {
          "base_uri": "https://localhost:8080/",
          "height": 1000
        },
        "id": "e58c1716",
        "outputId": "d96b0732-21b7-47de-9e3b-086f0b226faf"
      },
      "outputs": [],
      "source": [
        "import seaborn as sns\n",
        "\n",
        "# Create a DataFrame for visualization\n",
        "import pandas as pd\n",
        "df = pd.DataFrame(results)\n",
        "\n",
        "# Plot execution time comparison\n",
        "plt.figure(figsize=(10, 6))\n",
        "sns.barplot(x='query', y='execution_time', hue='model_name', data=df)\n",
        "plt.title('Execution Time Comparison Between Models')\n",
        "plt.ylabel('Execution Time (seconds)')\n",
        "plt.xticks(rotation=45, ha=\"right\")\n",
        "plt.show()\n"
      ]
    },
    {
      "cell_type": "code",
      "execution_count": null,
      "id": "b8396b61",
      "metadata": {
        "colab": {
          "base_uri": "https://localhost:8080/",
          "height": 1000
        },
        "id": "b8396b61",
        "outputId": "112db3cc-b958-4a0c-f556-89fa2fce74c4"
      },
      "outputs": [],
      "source": [
        "# Add a column for SQL query length\n",
        "df['sql_length'] = df['sql_query'].apply(len)\n",
        "\n",
        "# Plot SQL query length comparison\n",
        "plt.figure(figsize=(10, 6))\n",
        "sns.barplot(x='query', y='sql_length', hue='model_name', data=df)\n",
        "plt.title('SQL Query Length Comparison Between Models')\n",
        "plt.ylabel('SQL Query Length (characters)')\n",
        "plt.xticks(rotation=45, ha=\"right\")\n",
        "plt.show()\n"
      ]
    },
    {
      "cell_type": "code",
      "execution_count": null,
      "id": "d83q7FTpQx3D",
      "metadata": {
        "id": "d83q7FTpQx3D"
      },
      "outputs": [],
      "source": []
    },
    {
      "cell_type": "code",
      "execution_count": null,
      "id": "231429cc",
      "metadata": {
        "colab": {
          "base_uri": "https://localhost:8080/"
        },
        "id": "231429cc",
        "outputId": "ed62c6c8-8d3c-4b5c-c70b-062c3c99e450"
      },
      "outputs": [],
      "source": [
        "# Calculate and print numerical metrics\n",
        "avg_exec_time_small = df[df['model_name'] == \"t5-small-finetuned-wikiSQL\"]['execution_time'].mean()\n",
        "avg_exec_time_base = df[df['model_name'] == \"t5-base-finetuned-wikiSQL\"]['execution_time'].mean()\n",
        "\n",
        "avg_sql_length_small = df[df['model_name'] == \"t5-small-finetuned-wikiSQL\"]['sql_length'].mean()\n",
        "avg_sql_length_base = df[df['model_name'] == \"t5-base-finetuned-wikiSQL\"]['sql_length'].mean()\n",
        "\n",
        "print(\"Numerical Metrics:\")\n",
        "print(f\"Average Execution Time (t5-small): {avg_exec_time_small:.4f} seconds\")\n",
        "print(f\"Average Execution Time (t5-base): {avg_exec_time_base:.4f} seconds\")\n",
        "print(f\"Average SQL Query Length (t5-small): {avg_sql_length_small:.2f} characters\")\n",
        "print(f\"Average SQL Query Length (t5-base): {avg_sql_length_base:.2f} characters\")"
      ]
    },
    {
      "cell_type": "code",
      "execution_count": 84,
      "id": "dvG4aSFugo4z",
      "metadata": {
        "id": "dvG4aSFugo4z"
      },
      "outputs": [],
      "source": [
        "import numpy as np\n",
        "from difflib import SequenceMatcher\n",
        "\n",
        "# Function to calculate similarity score\n",
        "def calculate_similarity(expected, generated):\n",
        "    return SequenceMatcher(None, expected, generated).ratio()\n",
        "\n",
        "def evaluate_queries(queries, expected_queries):\n",
        "    results = []\n",
        "\n",
        "    for query, expected in zip(queries, expected_queries):\n",
        "        # Generate SQL queries using both models\n",
        "        sql_query_small = clean_sql_output(get_sql(query, tokenizer, model))\n",
        "        sql_query_base = clean_sql_output(get_sql(query, tokenizer_base, model_base))\n",
        "\n",
        "        # Calculate similarity scores\n",
        "        similarity_small = calculate_similarity(expected, sql_query_small)\n",
        "        similarity_base = calculate_similarity(expected, sql_query_base)\n",
        "        similarity_expected = calculate_similarity(expected, expected)  # This will always be 1\n",
        "\n",
        "        results.append({\n",
        "            \"query\": query,\n",
        "            \"expected\": expected,\n",
        "            \"generated_small\": sql_query_small,\n",
        "            \"generated_base\": sql_query_base,\n",
        "            \"similarity_small\": similarity_small,\n",
        "            \"similarity_base\": similarity_base,\n",
        "            \"similarity_expected\": similarity_expected  # Always 1\n",
        "        })\n",
        "\n",
        "    return results\n",
        "\n",
        "def visualize_similarity(results):\n",
        "    df = pd.DataFrame(results)\n",
        "\n",
        "    plt.figure(figsize=(12, 6))\n",
        "    bar_width = 0.25\n",
        "    index = np.arange(len(df))\n",
        "\n",
        "    # Bar for the small model\n",
        "    plt.bar(index, df['similarity_small'], bar_width, label='Small Model', color='skyblue')\n",
        "\n",
        "    # Bar for the base model, slightly offset to the right\n",
        "    plt.bar(index + bar_width, df['similarity_base'], bar_width, label='Base Model', color='salmon')\n",
        "\n",
        "    # Bar for expected queries, slightly offset to the right\n",
        "    plt.bar(index + 2 * bar_width, df['similarity_expected'], bar_width, label='Expected Query', color='lightgreen')\n",
        "\n",
        "    plt.axhline(y=0.8, color='red', linestyle='--', label='Threshold (0.8)')\n",
        "    plt.xlabel('Queries')\n",
        "    plt.ylabel('Similarity Score')\n",
        "    plt.title('Comparison of Similarity Scores of Generated SQL Queries')\n",
        "    plt.xticks(index + bar_width, df['query'], rotation=45)\n",
        "    plt.legend()\n",
        "    plt.ylim(0, 1)\n",
        "    plt.grid(axis='y')\n",
        "    plt.tight_layout()\n",
        "    plt.show()\n",
        "\n",
        "def calculate_average_similarity(results):\n",
        "    df = pd.DataFrame(results)\n",
        "    average_small = df['similarity_small'].mean()\n",
        "    average_base = df['similarity_base'].mean()\n",
        "\n",
        "    return average_small, average_base"
      ]
    },
    {
      "cell_type": "code",
      "execution_count": null,
      "id": "zpLPjjPuf82X",
      "metadata": {
        "colab": {
          "base_uri": "https://localhost:8080/",
          "height": 611
        },
        "id": "zpLPjjPuf82X",
        "outputId": "ee062203-a147-469b-9547-3e0dd09f6830"
      },
      "outputs": [],
      "source": [
        "# Example usage\n",
        "test_queries = [\n",
        "    \"How many employees have a salary greater than 20000?\",\n",
        "    \"List all employees who earn less than 22000.\",\n",
        "    \"What is the average salary of employees?\",\n",
        "    \"Find the employee with the highest salary.\",\n",
        "    \"List the names of all employees.\",\n",
        "    \"What is the total salary expenditure for all employees?\"\n",
        "]\n",
        "\n",
        "expected_test_queries = [\n",
        "    \"SELECT COUNT(*) FROM employees WHERE salary > 20000\",\n",
        "    \"SELECT * FROM employees WHERE earnings < 22000\",\n",
        "    \"SELECT AVG(salary) FROM employees\",\n",
        "    \"SELECT MAX(salary) FROM employees\",\n",
        "    \"SELECT name FROM employees\",\n",
        "    \"SELECT SUM(salary) FROM employees\"\n",
        "]\n",
        "\n",
        "test_results = evaluate_queries(test_queries, expected_test_queries)\n",
        "\n",
        "# Visualize the similarity scores\n",
        "visualize_similarity(test_results)\n",
        "\n",
        "# Calculate and print average similarity scores\n",
        "avg_small, avg_base = calculate_average_similarity(test_results)\n",
        "print(f\"Average Similarity Score - Small Model: {avg_small:.2f}\")\n",
        "print(f\"Average Similarity Score - Base Model: {avg_base:.2f}\")"
      ]
    }
  ],
  "metadata": {
    "colab": {
      "provenance": []
    },
    "kernelspec": {
      "display_name": "Python 3 (ipykernel)",
      "language": "python",
      "name": "python3"
    },
    "language_info": {
      "codemirror_mode": {
        "name": "ipython",
        "version": 3
      },
      "file_extension": ".py",
      "mimetype": "text/x-python",
      "name": "python",
      "nbconvert_exporter": "python",
      "pygments_lexer": "ipython3",
      "version": "3.10.11"
    }
  },
  "nbformat": 4,
  "nbformat_minor": 5
}
